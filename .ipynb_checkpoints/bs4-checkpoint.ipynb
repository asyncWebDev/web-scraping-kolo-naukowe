{
 "cells": [
  {
   "cell_type": "code",
   "execution_count": 1,
   "id": "f86d48b8-65eb-4732-9735-43fe58824aee",
   "metadata": {
    "tags": []
   },
   "outputs": [
    {
     "name": "stdout",
     "output_type": "stream",
     "text": [
      "<!DOCTYPE html>\n",
      "<html lang=\"en\">\n",
      " <head>\n",
      "  <meta charset=\"utf-8\"/>\n",
      "  <meta content=\"IE=edge\" http-equiv=\"X-UA-Compatible\"/>\n",
      "  <meta content=\"width=device-width, initial-scale=1.0\" name=\"viewport\"/>\n",
      "  <title>\n",
      "   Scraping-guide\n",
      "  </title>\n",
      "  <link href=\"styles.css\" rel=\"stylesheet\"/>\n",
      "  <link href=\"https://fonts.googleapis.com\" rel=\"preconnect\"/>\n",
      "  <link crossorigin=\"\" href=\"https://fonts.gstatic.com\" rel=\"preconnect\"/>\n",
      "  <link href=\"https://fonts.googleapis.com/css2?family=Poppins:wght@400;700&amp;display=swap\" rel=\"stylesheet\"/>\n",
      " </head>\n",
      " <body>\n",
      "  <header class=\"main-header\">\n",
      "   <h1>\n",
      "    Beer sales\n",
      "   </h1>\n",
      "  </header>\n",
      "  <section class=\"polish-section\" id=\"polish\">\n",
      "   <div class=\"region-container\">\n",
      "    <h2>\n",
      "     Polish region\n",
      "    </h2>\n",
      "    <div class=\"region-grid\">\n",
      "     <div>\n",
      "      <h4>\n",
      "       Year\n",
      "      </h4>\n",
      "      <h4>\n",
      "       Quantity\n",
      "      </h4>\n",
      "     </div>\n",
      "     <div>\n",
      "      <span>\n",
      "       2020\n",
      "      </span>\n",
      "      <p data-postion=\"first\" id=\"my-first-p-tag\">\n",
      "       190\n",
      "      </p>\n",
      "     </div>\n",
      "     <div>\n",
      "      <span>\n",
      "       2021\n",
      "      </span>\n",
      "      <p>\n",
      "       230\n",
      "      </p>\n",
      "     </div>\n",
      "     <div>\n",
      "      <span>\n",
      "       2022\n",
      "      </span>\n",
      "      <p>\n",
      "       180\n",
      "      </p>\n",
      "     </div>\n",
      "    </div>\n",
      "   </div>\n",
      "  </section>\n",
      "  <section class=\"czech-section\" id=\"czech\">\n",
      "   <div class=\"region-container\">\n",
      "    <h2>\n",
      "     Czech region\n",
      "    </h2>\n",
      "    <div class=\"region-grid\">\n",
      "     <div>\n",
      "      <h4>\n",
      "       Year\n",
      "      </h4>\n",
      "      <h4>\n",
      "       Quantity\n",
      "      </h4>\n",
      "     </div>\n",
      "     <div>\n",
      "      <span>\n",
      "       2020\n",
      "      </span>\n",
      "      <p>\n",
      "       100\n",
      "      </p>\n",
      "     </div>\n",
      "     <div>\n",
      "      <span>\n",
      "       2021\n",
      "      </span>\n",
      "      <p>\n",
      "       120\n",
      "      </p>\n",
      "     </div>\n",
      "     <div>\n",
      "      <span>\n",
      "       2022\n",
      "      </span>\n",
      "      <p>\n",
      "       125\n",
      "      </p>\n",
      "     </div>\n",
      "    </div>\n",
      "   </div>\n",
      "  </section>\n",
      "  <section class=\"slovak-section\" id=\"slovak\">\n",
      "   <div class=\"region-container\">\n",
      "    <h2>\n",
      "     Slovak region\n",
      "    </h2>\n",
      "    <div class=\"region-grid\">\n",
      "     <div>\n",
      "      <h4>\n",
      "       Year\n",
      "      </h4>\n",
      "      <h4>\n",
      "       Quantity\n",
      "      </h4>\n",
      "     </div>\n",
      "     <div>\n",
      "      <span>\n",
      "       2020\n",
      "      </span>\n",
      "      <p>\n",
      "       50\n",
      "      </p>\n",
      "     </div>\n",
      "     <div>\n",
      "      <span>\n",
      "       2021\n",
      "      </span>\n",
      "      <p>\n",
      "       30\n",
      "      </p>\n",
      "     </div>\n",
      "     <div>\n",
      "      <span>\n",
      "       2022\n",
      "      </span>\n",
      "      <p>\n",
      "       90\n",
      "      </p>\n",
      "     </div>\n",
      "    </div>\n",
      "   </div>\n",
      "  </section>\n",
      "  <div id=\"students-list\">\n",
      "  </div>\n",
      "  <!-- <script src=\"script.js\"></script> -->\n",
      " </body>\n",
      "</html>\n",
      "\n"
     ]
    }
   ],
   "source": [
    "from bs4 import BeautifulSoup as bfs\n",
    "\n",
    "with open ('index.html', 'r') as file:\n",
    "    doc = bfs(file, 'html.parser')\n",
    "\n",
    "print(doc.prettify())"
   ]
  },
  {
   "cell_type": "code",
   "execution_count": 2,
   "id": "321f15cd-2e13-4a98-82db-37235128b5c4",
   "metadata": {
    "tags": []
   },
   "outputs": [
    {
     "name": "stdout",
     "output_type": "stream",
     "text": [
      "<p data-postion=\"first\" id=\"my-first-p-tag\">190</p>\n"
     ]
    }
   ],
   "source": [
    "#pierwszy tag\n",
    "\n",
    "first_p_tag = (doc.p)\n",
    "print(first_p_tag)"
   ]
  },
  {
   "cell_type": "code",
   "execution_count": 3,
   "id": "3e43ceba-0b71-4d1e-8af7-95f51b726eef",
   "metadata": {
    "tags": []
   },
   "outputs": [
    {
     "data": {
      "text/plain": [
       "'p'"
      ]
     },
     "execution_count": 3,
     "metadata": {},
     "output_type": "execute_result"
    }
   ],
   "source": [
    "#nazwa tagu\n",
    "\n",
    "first_p_tag.name"
   ]
  },
  {
   "cell_type": "code",
   "execution_count": 4,
   "id": "33ca42c6-5132-465a-871e-3d1db96b8144",
   "metadata": {
    "tags": []
   },
   "outputs": [
    {
     "data": {
      "text/plain": [
       "bs4.element.Tag"
      ]
     },
     "execution_count": 4,
     "metadata": {},
     "output_type": "execute_result"
    }
   ],
   "source": [
    "#typ tagu, bs4 element\n",
    "\n",
    "type(first_p_tag)"
   ]
  },
  {
   "cell_type": "code",
   "execution_count": 5,
   "id": "9035bfc3-499b-408c-b9fc-0eeb439b7d1b",
   "metadata": {
    "tags": []
   },
   "outputs": [
    {
     "name": "stdout",
     "output_type": "stream",
     "text": [
      "[<p data-postion=\"first\" id=\"my-first-p-tag\">190</p>, <p>230</p>, <p>180</p>, <p>100</p>, <p>120</p>, <p>125</p>, <p>50</p>, <p>30</p>, <p>90</p>]\n",
      "<class 'bs4.element.ResultSet'>\n"
     ]
    }
   ],
   "source": [
    "#wszystkie tagi w liście\n",
    "\n",
    "all_p_tags = doc.find_all('p')\n",
    "print(all_p_tags)\n",
    "print(type(all_p_tags))"
   ]
  },
  {
   "cell_type": "code",
   "execution_count": 6,
   "id": "8edf2eed-8364-4b29-960d-1c5091ad81b3",
   "metadata": {
    "tags": []
   },
   "outputs": [
    {
     "name": "stdout",
     "output_type": "stream",
     "text": [
      "{'id': 'my-first-p-tag', 'data-postion': 'first'}\n"
     ]
    }
   ],
   "source": [
    "#dostęp do wszystkich atrybutów\n",
    "\n",
    "print(first_p_tag.attrs)"
   ]
  },
  {
   "cell_type": "code",
   "execution_count": 7,
   "id": "7936caf8-a558-4218-b7c7-d2cb859a6436",
   "metadata": {
    "tags": []
   },
   "outputs": [
    {
     "data": {
      "text/plain": [
       "['region-container']"
      ]
     },
     "execution_count": 7,
     "metadata": {},
     "output_type": "execute_result"
    }
   ],
   "source": [
    "#dostęp do klasy, lista\n",
    "\n",
    "doc.section.div['class']"
   ]
  },
  {
   "cell_type": "code",
   "execution_count": 8,
   "id": "adf7eefd-480d-49b9-89fe-fe6e63722821",
   "metadata": {
    "tags": []
   },
   "outputs": [
    {
     "name": "stdout",
     "output_type": "stream",
     "text": [
      "90\n",
      "90\n",
      "<class 'bs4.element.NavigableString'>\n",
      "<class 'str'>\n",
      "----\n",
      "<p>I love<span> bees</span></p>\n",
      "None\n",
      "I love bees\n"
     ]
    }
   ],
   "source": [
    "#tekst\n",
    "\n",
    "for p in all_p_tags:\n",
    "    p_string = p.string\n",
    "    p_text = p.text\n",
    "\n",
    "print(p_string)\n",
    "print(p_text)\n",
    "print(type(p_string))\n",
    "print(type(p_text))\n",
    "print('----')\n",
    "\n",
    "html = '<p>I love<span> bees</span></p>'\n",
    "element = bfs(html, 'html.parser')\n",
    "print(element)\n",
    "print(element.string)\n",
    "print(element.text)"
   ]
  },
  {
   "cell_type": "code",
   "execution_count": 9,
   "id": "fa951c4c-b7e8-4310-ae3d-60c6a25bcc70",
   "metadata": {
    "tags": []
   },
   "outputs": [
    {
     "name": "stdout",
     "output_type": "stream",
     "text": [
      "<p data-postion=\"first\" id=\"my-first-p-tag\">200</p>\n"
     ]
    }
   ],
   "source": [
    "first_p_tag.string.replace_with('200') #przy użyciu .text błąd\n",
    "print(first_p_tag)"
   ]
  },
  {
   "cell_type": "code",
   "execution_count": 10,
   "id": "ab2eb448-1ec1-49de-8c64-8bc9b7c5724d",
   "metadata": {
    "tags": []
   },
   "outputs": [
    {
     "data": {
      "text/plain": [
       "['\\n',\n",
       " <div class=\"region-container\">\n",
       " <h2>Polish region</h2>\n",
       " <div class=\"region-grid\">\n",
       " <div>\n",
       " <h4>Year</h4>\n",
       " <h4>Quantity</h4>\n",
       " </div>\n",
       " <div>\n",
       " <span>2020</span>\n",
       " <p data-postion=\"first\" id=\"my-first-p-tag\">200</p>\n",
       " </div>\n",
       " <div>\n",
       " <span>2021</span>\n",
       " <p>230</p>\n",
       " </div>\n",
       " <div>\n",
       " <span>2022</span>\n",
       " <p>180</p>\n",
       " </div>\n",
       " </div>\n",
       " </div>,\n",
       " '\\n']"
      ]
     },
     "execution_count": 10,
     "metadata": {},
     "output_type": "execute_result"
    }
   ],
   "source": [
    "#zawartość tagów\n",
    "\n",
    "doc.section.contents #lista"
   ]
  },
  {
   "cell_type": "code",
   "execution_count": 11,
   "id": "3060de9f-3636-4e1d-8861-7d0bba496d9a",
   "metadata": {
    "tags": []
   },
   "outputs": [
    {
     "name": "stdout",
     "output_type": "stream",
     "text": [
      "\n",
      "\n",
      "<div class=\"region-container\">\n",
      "<h2>Polish region</h2>\n",
      "<div class=\"region-grid\">\n",
      "<div>\n",
      "<h4>Year</h4>\n",
      "<h4>Quantity</h4>\n",
      "</div>\n",
      "<div>\n",
      "<span>2020</span>\n",
      "<p data-postion=\"first\" id=\"my-first-p-tag\">200</p>\n",
      "</div>\n",
      "<div>\n",
      "<span>2021</span>\n",
      "<p>230</p>\n",
      "</div>\n",
      "<div>\n",
      "<span>2022</span>\n",
      "<p>180</p>\n",
      "</div>\n",
      "</div>\n",
      "</div>\n",
      "\n",
      "\n"
     ]
    }
   ],
   "source": [
    "#child elements\n",
    "for child in doc.section:\n",
    "    print(child)"
   ]
  },
  {
   "cell_type": "code",
   "execution_count": 12,
   "id": "0e49f2ed-a017-48ad-9c13-7758b0b2a7b5",
   "metadata": {
    "tags": []
   },
   "outputs": [
    {
     "data": {
      "text/plain": [
       "<div>\n",
       "<span>2020</span>\n",
       "<p data-postion=\"first\" id=\"my-first-p-tag\">200</p>\n",
       "</div>"
      ]
     },
     "execution_count": 12,
     "metadata": {},
     "output_type": "execute_result"
    }
   ],
   "source": [
    "#parent element\n",
    "\n",
    "first_p_tag.parent"
   ]
  },
  {
   "cell_type": "code",
   "execution_count": 13,
   "id": "e0a21a6e-2d47-41c6-9c93-f19ab349aa67",
   "metadata": {
    "tags": []
   },
   "outputs": [
    {
     "name": "stdout",
     "output_type": "stream",
     "text": [
      "'\\n'\n",
      "<h4>Quantity</h4>\n",
      "None\n"
     ]
    }
   ],
   "source": [
    "#next sibling i previous\n",
    "\n",
    "print(repr(doc.h4.next_sibling)) #dzięki repr() widoczne '\\n'\n",
    "print(doc.h4.next_sibling.next_sibling)\n",
    "print(doc.h4.prev_sibling)"
   ]
  },
  {
   "cell_type": "code",
   "execution_count": 14,
   "id": "0b6087a7-5e73-43ed-afb2-52fbc50967a5",
   "metadata": {
    "tags": []
   },
   "outputs": [
    {
     "name": "stdout",
     "output_type": "stream",
     "text": [
      "\n",
      "\n",
      "<section class=\"czech-section\" id=\"czech\">\n",
      "<div class=\"region-container\">\n",
      "<h2>Czech region</h2>\n",
      "<div class=\"region-grid\">\n",
      "<div>\n",
      "<h4>Year</h4>\n",
      "<h4>Quantity</h4>\n",
      "</div>\n",
      "<div>\n",
      "<span>2020</span>\n",
      "<p>100</p>\n",
      "</div>\n",
      "<div>\n",
      "<span>2021</span>\n",
      "<p>120</p>\n",
      "</div>\n",
      "<div>\n",
      "<span>2022</span>\n",
      "<p>125</p>\n",
      "</div>\n",
      "</div>\n",
      "</div>\n",
      "</section>\n",
      "\n",
      "\n",
      "<section class=\"slovak-section\" id=\"slovak\">\n",
      "<div class=\"region-container\">\n",
      "<h2>Slovak region</h2>\n",
      "<div class=\"region-grid\">\n",
      "<div>\n",
      "<h4>Year</h4>\n",
      "<h4>Quantity</h4>\n",
      "</div>\n",
      "<div>\n",
      "<span>2020</span>\n",
      "<p>50</p>\n",
      "</div>\n",
      "<div>\n",
      "<span>2021</span>\n",
      "<p>30</p>\n",
      "</div>\n",
      "<div>\n",
      "<span>2022</span>\n",
      "<p>90</p>\n",
      "</div>\n",
      "</div>\n",
      "</div>\n",
      "</section>\n",
      "\n",
      "\n",
      "<div id=\"students-list\"></div>\n",
      "\n",
      "\n",
      " <script src=\"script.js\"></script> \n",
      "\n",
      "\n"
     ]
    }
   ],
   "source": [
    "#next siblings\n",
    "\n",
    "for section in doc.section.next_siblings:\n",
    "    print(section)"
   ]
  },
  {
   "cell_type": "code",
   "execution_count": 15,
   "id": "8493025b-a965-44f9-bacd-567bc115986c",
   "metadata": {
    "tags": []
   },
   "outputs": [
    {
     "name": "stdout",
     "output_type": "stream",
     "text": [
      "<h2>Polish region</h2>\n"
     ]
    }
   ],
   "source": [
    "#next/prev element\n",
    "\n",
    "print(doc.div.next_element.next_element)"
   ]
  },
  {
   "cell_type": "code",
   "execution_count": 16,
   "id": "470d9090-9a4e-45e2-9044-ae7dc86f70fb",
   "metadata": {
    "tags": []
   },
   "outputs": [
    {
     "name": "stdout",
     "output_type": "stream",
     "text": [
      "<section class=\"polish-section\" id=\"polish\">\n",
      "<div class=\"region-container\">\n",
      "<h2>Polish region</h2>\n",
      "<div class=\"region-grid\">\n",
      "<div>\n",
      "<h4>Year</h4>\n",
      "<h4>Quantity</h4>\n",
      "</div>\n",
      "<div>\n",
      "<span>2020</span>\n",
      "<p data-postion=\"first\" id=\"my-first-p-tag\">200</p>\n",
      "</div>\n",
      "<div>\n",
      "<span>2021</span>\n",
      "<p>230</p>\n",
      "</div>\n",
      "<div>\n",
      "<span>2022</span>\n",
      "<p>180</p>\n",
      "</div>\n",
      "</div>\n",
      "</div>\n",
      "</section>\n"
     ]
    }
   ],
   "source": [
    "#znajduje pierwszą sekcję\n",
    "\n",
    "print(doc.find('section'))"
   ]
  },
  {
   "cell_type": "code",
   "execution_count": 17,
   "id": "7a0501f6-9b42-4244-b488-0f5ec65d4be1",
   "metadata": {},
   "outputs": [
    {
     "data": {
      "text/plain": [
       "[<html lang=\"en\">\n",
       " <head>\n",
       " <meta charset=\"utf-8\"/>\n",
       " <meta content=\"IE=edge\" http-equiv=\"X-UA-Compatible\"/>\n",
       " <meta content=\"width=device-width, initial-scale=1.0\" name=\"viewport\"/>\n",
       " <title>Scraping-guide</title>\n",
       " <link href=\"styles.css\" rel=\"stylesheet\"/>\n",
       " <link href=\"https://fonts.googleapis.com\" rel=\"preconnect\"/>\n",
       " <link crossorigin=\"\" href=\"https://fonts.gstatic.com\" rel=\"preconnect\"/>\n",
       " <link href=\"https://fonts.googleapis.com/css2?family=Poppins:wght@400;700&amp;display=swap\" rel=\"stylesheet\"/>\n",
       " </head>\n",
       " <body>\n",
       " <header class=\"main-header\">\n",
       " <h1>Beer sales</h1>\n",
       " </header>\n",
       " <section class=\"polish-section\" id=\"polish\">\n",
       " <div class=\"region-container\">\n",
       " <h2>Polish region</h2>\n",
       " <div class=\"region-grid\">\n",
       " <div>\n",
       " <h4>Year</h4>\n",
       " <h4>Quantity</h4>\n",
       " </div>\n",
       " <div>\n",
       " <span>2020</span>\n",
       " <p data-postion=\"first\" id=\"my-first-p-tag\">200</p>\n",
       " </div>\n",
       " <div>\n",
       " <span>2021</span>\n",
       " <p>230</p>\n",
       " </div>\n",
       " <div>\n",
       " <span>2022</span>\n",
       " <p>180</p>\n",
       " </div>\n",
       " </div>\n",
       " </div>\n",
       " </section>\n",
       " <section class=\"czech-section\" id=\"czech\">\n",
       " <div class=\"region-container\">\n",
       " <h2>Czech region</h2>\n",
       " <div class=\"region-grid\">\n",
       " <div>\n",
       " <h4>Year</h4>\n",
       " <h4>Quantity</h4>\n",
       " </div>\n",
       " <div>\n",
       " <span>2020</span>\n",
       " <p>100</p>\n",
       " </div>\n",
       " <div>\n",
       " <span>2021</span>\n",
       " <p>120</p>\n",
       " </div>\n",
       " <div>\n",
       " <span>2022</span>\n",
       " <p>125</p>\n",
       " </div>\n",
       " </div>\n",
       " </div>\n",
       " </section>\n",
       " <section class=\"slovak-section\" id=\"slovak\">\n",
       " <div class=\"region-container\">\n",
       " <h2>Slovak region</h2>\n",
       " <div class=\"region-grid\">\n",
       " <div>\n",
       " <h4>Year</h4>\n",
       " <h4>Quantity</h4>\n",
       " </div>\n",
       " <div>\n",
       " <span>2020</span>\n",
       " <p>50</p>\n",
       " </div>\n",
       " <div>\n",
       " <span>2021</span>\n",
       " <p>30</p>\n",
       " </div>\n",
       " <div>\n",
       " <span>2022</span>\n",
       " <p>90</p>\n",
       " </div>\n",
       " </div>\n",
       " </div>\n",
       " </section>\n",
       " <div id=\"students-list\"></div>\n",
       " <!-- <script src=\"script.js\"></script> -->\n",
       " </body>\n",
       " </html>,\n",
       " <head>\n",
       " <meta charset=\"utf-8\"/>\n",
       " <meta content=\"IE=edge\" http-equiv=\"X-UA-Compatible\"/>\n",
       " <meta content=\"width=device-width, initial-scale=1.0\" name=\"viewport\"/>\n",
       " <title>Scraping-guide</title>\n",
       " <link href=\"styles.css\" rel=\"stylesheet\"/>\n",
       " <link href=\"https://fonts.googleapis.com\" rel=\"preconnect\"/>\n",
       " <link crossorigin=\"\" href=\"https://fonts.gstatic.com\" rel=\"preconnect\"/>\n",
       " <link href=\"https://fonts.googleapis.com/css2?family=Poppins:wght@400;700&amp;display=swap\" rel=\"stylesheet\"/>\n",
       " </head>,\n",
       " <meta charset=\"utf-8\"/>,\n",
       " <meta content=\"IE=edge\" http-equiv=\"X-UA-Compatible\"/>,\n",
       " <meta content=\"width=device-width, initial-scale=1.0\" name=\"viewport\"/>,\n",
       " <title>Scraping-guide</title>,\n",
       " <link href=\"styles.css\" rel=\"stylesheet\"/>,\n",
       " <link href=\"https://fonts.googleapis.com\" rel=\"preconnect\"/>,\n",
       " <link crossorigin=\"\" href=\"https://fonts.gstatic.com\" rel=\"preconnect\"/>,\n",
       " <link href=\"https://fonts.googleapis.com/css2?family=Poppins:wght@400;700&amp;display=swap\" rel=\"stylesheet\"/>,\n",
       " <body>\n",
       " <header class=\"main-header\">\n",
       " <h1>Beer sales</h1>\n",
       " </header>\n",
       " <section class=\"polish-section\" id=\"polish\">\n",
       " <div class=\"region-container\">\n",
       " <h2>Polish region</h2>\n",
       " <div class=\"region-grid\">\n",
       " <div>\n",
       " <h4>Year</h4>\n",
       " <h4>Quantity</h4>\n",
       " </div>\n",
       " <div>\n",
       " <span>2020</span>\n",
       " <p data-postion=\"first\" id=\"my-first-p-tag\">200</p>\n",
       " </div>\n",
       " <div>\n",
       " <span>2021</span>\n",
       " <p>230</p>\n",
       " </div>\n",
       " <div>\n",
       " <span>2022</span>\n",
       " <p>180</p>\n",
       " </div>\n",
       " </div>\n",
       " </div>\n",
       " </section>\n",
       " <section class=\"czech-section\" id=\"czech\">\n",
       " <div class=\"region-container\">\n",
       " <h2>Czech region</h2>\n",
       " <div class=\"region-grid\">\n",
       " <div>\n",
       " <h4>Year</h4>\n",
       " <h4>Quantity</h4>\n",
       " </div>\n",
       " <div>\n",
       " <span>2020</span>\n",
       " <p>100</p>\n",
       " </div>\n",
       " <div>\n",
       " <span>2021</span>\n",
       " <p>120</p>\n",
       " </div>\n",
       " <div>\n",
       " <span>2022</span>\n",
       " <p>125</p>\n",
       " </div>\n",
       " </div>\n",
       " </div>\n",
       " </section>\n",
       " <section class=\"slovak-section\" id=\"slovak\">\n",
       " <div class=\"region-container\">\n",
       " <h2>Slovak region</h2>\n",
       " <div class=\"region-grid\">\n",
       " <div>\n",
       " <h4>Year</h4>\n",
       " <h4>Quantity</h4>\n",
       " </div>\n",
       " <div>\n",
       " <span>2020</span>\n",
       " <p>50</p>\n",
       " </div>\n",
       " <div>\n",
       " <span>2021</span>\n",
       " <p>30</p>\n",
       " </div>\n",
       " <div>\n",
       " <span>2022</span>\n",
       " <p>90</p>\n",
       " </div>\n",
       " </div>\n",
       " </div>\n",
       " </section>\n",
       " <div id=\"students-list\"></div>\n",
       " <!-- <script src=\"script.js\"></script> -->\n",
       " </body>,\n",
       " <header class=\"main-header\">\n",
       " <h1>Beer sales</h1>\n",
       " </header>,\n",
       " <h1>Beer sales</h1>,\n",
       " <section class=\"polish-section\" id=\"polish\">\n",
       " <div class=\"region-container\">\n",
       " <h2>Polish region</h2>\n",
       " <div class=\"region-grid\">\n",
       " <div>\n",
       " <h4>Year</h4>\n",
       " <h4>Quantity</h4>\n",
       " </div>\n",
       " <div>\n",
       " <span>2020</span>\n",
       " <p data-postion=\"first\" id=\"my-first-p-tag\">200</p>\n",
       " </div>\n",
       " <div>\n",
       " <span>2021</span>\n",
       " <p>230</p>\n",
       " </div>\n",
       " <div>\n",
       " <span>2022</span>\n",
       " <p>180</p>\n",
       " </div>\n",
       " </div>\n",
       " </div>\n",
       " </section>,\n",
       " <div class=\"region-container\">\n",
       " <h2>Polish region</h2>\n",
       " <div class=\"region-grid\">\n",
       " <div>\n",
       " <h4>Year</h4>\n",
       " <h4>Quantity</h4>\n",
       " </div>\n",
       " <div>\n",
       " <span>2020</span>\n",
       " <p data-postion=\"first\" id=\"my-first-p-tag\">200</p>\n",
       " </div>\n",
       " <div>\n",
       " <span>2021</span>\n",
       " <p>230</p>\n",
       " </div>\n",
       " <div>\n",
       " <span>2022</span>\n",
       " <p>180</p>\n",
       " </div>\n",
       " </div>\n",
       " </div>,\n",
       " <h2>Polish region</h2>,\n",
       " <div class=\"region-grid\">\n",
       " <div>\n",
       " <h4>Year</h4>\n",
       " <h4>Quantity</h4>\n",
       " </div>\n",
       " <div>\n",
       " <span>2020</span>\n",
       " <p data-postion=\"first\" id=\"my-first-p-tag\">200</p>\n",
       " </div>\n",
       " <div>\n",
       " <span>2021</span>\n",
       " <p>230</p>\n",
       " </div>\n",
       " <div>\n",
       " <span>2022</span>\n",
       " <p>180</p>\n",
       " </div>\n",
       " </div>,\n",
       " <div>\n",
       " <h4>Year</h4>\n",
       " <h4>Quantity</h4>\n",
       " </div>,\n",
       " <h4>Year</h4>,\n",
       " <h4>Quantity</h4>,\n",
       " <div>\n",
       " <span>2020</span>\n",
       " <p data-postion=\"first\" id=\"my-first-p-tag\">200</p>\n",
       " </div>,\n",
       " <span>2020</span>,\n",
       " <p data-postion=\"first\" id=\"my-first-p-tag\">200</p>,\n",
       " <div>\n",
       " <span>2021</span>\n",
       " <p>230</p>\n",
       " </div>,\n",
       " <span>2021</span>,\n",
       " <p>230</p>,\n",
       " <div>\n",
       " <span>2022</span>\n",
       " <p>180</p>\n",
       " </div>,\n",
       " <span>2022</span>,\n",
       " <p>180</p>,\n",
       " <section class=\"czech-section\" id=\"czech\">\n",
       " <div class=\"region-container\">\n",
       " <h2>Czech region</h2>\n",
       " <div class=\"region-grid\">\n",
       " <div>\n",
       " <h4>Year</h4>\n",
       " <h4>Quantity</h4>\n",
       " </div>\n",
       " <div>\n",
       " <span>2020</span>\n",
       " <p>100</p>\n",
       " </div>\n",
       " <div>\n",
       " <span>2021</span>\n",
       " <p>120</p>\n",
       " </div>\n",
       " <div>\n",
       " <span>2022</span>\n",
       " <p>125</p>\n",
       " </div>\n",
       " </div>\n",
       " </div>\n",
       " </section>,\n",
       " <div class=\"region-container\">\n",
       " <h2>Czech region</h2>\n",
       " <div class=\"region-grid\">\n",
       " <div>\n",
       " <h4>Year</h4>\n",
       " <h4>Quantity</h4>\n",
       " </div>\n",
       " <div>\n",
       " <span>2020</span>\n",
       " <p>100</p>\n",
       " </div>\n",
       " <div>\n",
       " <span>2021</span>\n",
       " <p>120</p>\n",
       " </div>\n",
       " <div>\n",
       " <span>2022</span>\n",
       " <p>125</p>\n",
       " </div>\n",
       " </div>\n",
       " </div>,\n",
       " <h2>Czech region</h2>,\n",
       " <div class=\"region-grid\">\n",
       " <div>\n",
       " <h4>Year</h4>\n",
       " <h4>Quantity</h4>\n",
       " </div>\n",
       " <div>\n",
       " <span>2020</span>\n",
       " <p>100</p>\n",
       " </div>\n",
       " <div>\n",
       " <span>2021</span>\n",
       " <p>120</p>\n",
       " </div>\n",
       " <div>\n",
       " <span>2022</span>\n",
       " <p>125</p>\n",
       " </div>\n",
       " </div>,\n",
       " <div>\n",
       " <h4>Year</h4>\n",
       " <h4>Quantity</h4>\n",
       " </div>,\n",
       " <h4>Year</h4>,\n",
       " <h4>Quantity</h4>,\n",
       " <div>\n",
       " <span>2020</span>\n",
       " <p>100</p>\n",
       " </div>,\n",
       " <span>2020</span>,\n",
       " <p>100</p>,\n",
       " <div>\n",
       " <span>2021</span>\n",
       " <p>120</p>\n",
       " </div>,\n",
       " <span>2021</span>,\n",
       " <p>120</p>,\n",
       " <div>\n",
       " <span>2022</span>\n",
       " <p>125</p>\n",
       " </div>,\n",
       " <span>2022</span>,\n",
       " <p>125</p>,\n",
       " <section class=\"slovak-section\" id=\"slovak\">\n",
       " <div class=\"region-container\">\n",
       " <h2>Slovak region</h2>\n",
       " <div class=\"region-grid\">\n",
       " <div>\n",
       " <h4>Year</h4>\n",
       " <h4>Quantity</h4>\n",
       " </div>\n",
       " <div>\n",
       " <span>2020</span>\n",
       " <p>50</p>\n",
       " </div>\n",
       " <div>\n",
       " <span>2021</span>\n",
       " <p>30</p>\n",
       " </div>\n",
       " <div>\n",
       " <span>2022</span>\n",
       " <p>90</p>\n",
       " </div>\n",
       " </div>\n",
       " </div>\n",
       " </section>,\n",
       " <div class=\"region-container\">\n",
       " <h2>Slovak region</h2>\n",
       " <div class=\"region-grid\">\n",
       " <div>\n",
       " <h4>Year</h4>\n",
       " <h4>Quantity</h4>\n",
       " </div>\n",
       " <div>\n",
       " <span>2020</span>\n",
       " <p>50</p>\n",
       " </div>\n",
       " <div>\n",
       " <span>2021</span>\n",
       " <p>30</p>\n",
       " </div>\n",
       " <div>\n",
       " <span>2022</span>\n",
       " <p>90</p>\n",
       " </div>\n",
       " </div>\n",
       " </div>,\n",
       " <h2>Slovak region</h2>,\n",
       " <div class=\"region-grid\">\n",
       " <div>\n",
       " <h4>Year</h4>\n",
       " <h4>Quantity</h4>\n",
       " </div>\n",
       " <div>\n",
       " <span>2020</span>\n",
       " <p>50</p>\n",
       " </div>\n",
       " <div>\n",
       " <span>2021</span>\n",
       " <p>30</p>\n",
       " </div>\n",
       " <div>\n",
       " <span>2022</span>\n",
       " <p>90</p>\n",
       " </div>\n",
       " </div>,\n",
       " <div>\n",
       " <h4>Year</h4>\n",
       " <h4>Quantity</h4>\n",
       " </div>,\n",
       " <h4>Year</h4>,\n",
       " <h4>Quantity</h4>,\n",
       " <div>\n",
       " <span>2020</span>\n",
       " <p>50</p>\n",
       " </div>,\n",
       " <span>2020</span>,\n",
       " <p>50</p>,\n",
       " <div>\n",
       " <span>2021</span>\n",
       " <p>30</p>\n",
       " </div>,\n",
       " <span>2021</span>,\n",
       " <p>30</p>,\n",
       " <div>\n",
       " <span>2022</span>\n",
       " <p>90</p>\n",
       " </div>,\n",
       " <span>2022</span>,\n",
       " <p>90</p>,\n",
       " <div id=\"students-list\"></div>]"
      ]
     },
     "execution_count": 17,
     "metadata": {},
     "output_type": "execute_result"
    }
   ],
   "source": [
    "#znajduje wszystkie elementy\n",
    "doc.find_all(True)"
   ]
  },
  {
   "cell_type": "code",
   "execution_count": 18,
   "id": "07e06b5b-b53d-4590-936b-cf45134be69c",
   "metadata": {
    "tags": []
   },
   "outputs": [
    {
     "name": "stdout",
     "output_type": "stream",
     "text": [
      "[<div class=\"region-container\">\n",
      "<h2>Polish region</h2>\n",
      "<div class=\"region-grid\">\n",
      "<div>\n",
      "<h4>Year</h4>\n",
      "<h4>Quantity</h4>\n",
      "</div>\n",
      "<div>\n",
      "<span>2020</span>\n",
      "<p data-postion=\"first\" id=\"my-first-p-tag\">200</p>\n",
      "</div>\n",
      "<div>\n",
      "<span>2021</span>\n",
      "<p>230</p>\n",
      "</div>\n",
      "<div>\n",
      "<span>2022</span>\n",
      "<p>180</p>\n",
      "</div>\n",
      "</div>\n",
      "</div>, <div class=\"region-container\">\n",
      "<h2>Czech region</h2>\n",
      "<div class=\"region-grid\">\n",
      "<div>\n",
      "<h4>Year</h4>\n",
      "<h4>Quantity</h4>\n",
      "</div>\n",
      "<div>\n",
      "<span>2020</span>\n",
      "<p>100</p>\n",
      "</div>\n",
      "<div>\n",
      "<span>2021</span>\n",
      "<p>120</p>\n",
      "</div>\n",
      "<div>\n",
      "<span>2022</span>\n",
      "<p>125</p>\n",
      "</div>\n",
      "</div>\n",
      "</div>, <div class=\"region-container\">\n",
      "<h2>Slovak region</h2>\n",
      "<div class=\"region-grid\">\n",
      "<div>\n",
      "<h4>Year</h4>\n",
      "<h4>Quantity</h4>\n",
      "</div>\n",
      "<div>\n",
      "<span>2020</span>\n",
      "<p>50</p>\n",
      "</div>\n",
      "<div>\n",
      "<span>2021</span>\n",
      "<p>30</p>\n",
      "</div>\n",
      "<div>\n",
      "<span>2022</span>\n",
      "<p>90</p>\n",
      "</div>\n",
      "</div>\n",
      "</div>]\n",
      "<class 'bs4.element.ResultSet'>\n"
     ]
    }
   ],
   "source": [
    "#szukanie po klasie\n",
    "regions = doc.find_all('div', class_ = 'region-container')\n",
    "print(regions)\n",
    "print(type(regions))"
   ]
  },
  {
   "cell_type": "code",
   "execution_count": 19,
   "id": "e2422e33-e49a-4738-b958-6360030e8fa5",
   "metadata": {
    "tags": []
   },
   "outputs": [
    {
     "name": "stdout",
     "output_type": "stream",
     "text": [
      "In Polish region sold 200 units in 2020\n",
      "In Czech region sold 100 units in 2020\n",
      "In Slovak region sold 50 units in 2020\n"
     ]
    }
   ],
   "source": [
    "#znalezienie wielkosci dla 2020 roku dla każdego regionu\n",
    "\n",
    "for region in regions:\n",
    "    print(f'In {region.h2.string} sold {region.p.string} units in {region.span.string}')"
   ]
  },
  {
   "cell_type": "code",
   "execution_count": 20,
   "id": "393ce0aa-aa5a-4360-b478-cf280848371b",
   "metadata": {
    "tags": []
   },
   "outputs": [
    {
     "name": "stdout",
     "output_type": "stream",
     "text": [
      "<div>\n",
      "<span>2020</span>\n",
      "<p data-postion=\"first\" id=\"my-first-p-tag\">200</p>\n",
      "</div>\n"
     ]
    }
   ],
   "source": [
    "#znajdowanie rodzica\n",
    "\n",
    "print(first_p_tag.find_parent('div'))"
   ]
  },
  {
   "cell_type": "code",
   "execution_count": 21,
   "id": "346b96d4-0713-4bbd-a84d-1812aa5346cb",
   "metadata": {
    "tags": []
   },
   "outputs": [
    {
     "name": "stdout",
     "output_type": "stream",
     "text": [
      "<span>2020</span>\n",
      "None\n"
     ]
    }
   ],
   "source": [
    "#znajdowanie tagów na równi\n",
    "\n",
    "print(first_p_tag.find_previous_sibling('span'))\n",
    "print(first_p_tag.find_next_sibling('span'))"
   ]
  },
  {
   "cell_type": "code",
   "execution_count": 22,
   "id": "6c1b6f75-25e2-4570-af2a-75bf15e06aa7",
   "metadata": {
    "tags": []
   },
   "outputs": [
    {
     "name": "stdout",
     "output_type": "stream",
     "text": [
      "['Slovak region']\n"
     ]
    }
   ],
   "source": [
    "#wyszukiwanie po konkretnej nazwie\n",
    "\n",
    "print(doc.find_all(string = \"Slovak region\"))"
   ]
  },
  {
   "cell_type": "code",
   "execution_count": 23,
   "id": "78660600-f92e-43c4-8a6f-1ba1a06f1f9b",
   "metadata": {
    "tags": []
   },
   "outputs": [
    {
     "name": "stdout",
     "output_type": "stream",
     "text": [
      "<p data-postion=\"first\" id=\"my-first-p-tag\">200</p>\n"
     ]
    }
   ],
   "source": [
    "#wyszukiwanie po atrybucie\n",
    "\n",
    "print(doc.find(attrs={'data-postion' : 'first'}))"
   ]
  },
  {
   "cell_type": "code",
   "execution_count": 24,
   "id": "df729076-57ce-48d1-92ba-29ee945dbdc1",
   "metadata": {
    "tags": []
   },
   "outputs": [
    {
     "name": "stdout",
     "output_type": "stream",
     "text": [
      "<p data-postion=\"first\" id=\"my-first-p-tag\">200</p>\n"
     ]
    }
   ],
   "source": [
    "#wyszukiwanie po id\n",
    "\n",
    "print(doc.find(id = 'my-first-p-tag'))"
   ]
  },
  {
   "cell_type": "code",
   "execution_count": 25,
   "id": "13a7d5ea-97ea-4366-bb40-160a4ae5132d",
   "metadata": {
    "tags": []
   },
   "outputs": [
    {
     "name": "stdout",
     "output_type": "stream",
     "text": [
      "[<h2>Polish region</h2>, <h2>Czech region</h2>, <h2>Slovak region</h2>]\n"
     ]
    }
   ],
   "source": [
    "regions = doc.find_all('h2')\n",
    "print(regions)\n",
    "\n",
    "for region in regions:\n",
    "    region.string = 'New region'\n",
    "\n",
    "with open('index-changed.html', 'w') as file:\n",
    "    file.write(str(doc))"
   ]
  },
  {
   "cell_type": "code",
   "execution_count": 26,
   "id": "e9b44b6d-9ba3-406f-9b9e-510c48ef0a1a",
   "metadata": {
    "tags": []
   },
   "outputs": [
    {
     "name": "stdout",
     "output_type": "stream",
     "text": [
      "<!DOCTYPE html>\n",
      "<html lang=\"en\">\n",
      " <head>\n",
      "  <meta charset=\"utf-8\"/>\n",
      "  <meta content=\"IE=edge\" http-equiv=\"X-UA-Compatible\"/>\n",
      "  <meta content=\"width=device-width, initial-scale=1.0\" name=\"viewport\"/>\n",
      "  <title>\n",
      "   Scraping-guide\n",
      "  </title>\n",
      "  <link href=\"styles.css\" rel=\"stylesheet\"/>\n",
      "  <link href=\"https://fonts.googleapis.com\" rel=\"preconnect\"/>\n",
      "  <link crossorigin=\"\" href=\"https://fonts.gstatic.com\" rel=\"preconnect\"/>\n",
      "  <link href=\"https://fonts.googleapis.com/css2?family=Poppins:wght@400;700&amp;display=swap\" rel=\"stylesheet\"/>\n",
      " </head>\n",
      " <body>\n",
      "  <header class=\"main-header\">\n",
      "   <h1>\n",
      "    Beer sales\n",
      "   </h1>\n",
      "  </header>\n",
      "  <section class=\"polish-section\" id=\"polish\">\n",
      "   <div class=\"region-container\">\n",
      "    <h2>\n",
      "     New region\n",
      "    </h2>\n",
      "    <div class=\"region-grid\">\n",
      "     <div>\n",
      "      <h4>\n",
      "       Year\n",
      "      </h4>\n",
      "      <h4>\n",
      "       Quantity\n",
      "      </h4>\n",
      "     </div>\n",
      "     <div>\n",
      "      <span>\n",
      "       2020\n",
      "      </span>\n",
      "      <p data-postion=\"first\" id=\"my-first-p-tag\">\n",
      "       200\n",
      "      </p>\n",
      "     </div>\n",
      "     <div>\n",
      "      <span>\n",
      "       2021\n",
      "      </span>\n",
      "      <p>\n",
      "       230\n",
      "      </p>\n",
      "     </div>\n",
      "     <div>\n",
      "      <span>\n",
      "       2022\n",
      "      </span>\n",
      "      <p>\n",
      "       180\n",
      "      </p>\n",
      "     </div>\n",
      "    </div>\n",
      "   </div>\n",
      "  </section>\n",
      "  <section class=\"czech-section\" id=\"czech\">\n",
      "   <div class=\"region-container\">\n",
      "    <h2>\n",
      "     New region\n",
      "    </h2>\n",
      "    <div class=\"region-grid\">\n",
      "     <div>\n",
      "      <h4>\n",
      "       Year\n",
      "      </h4>\n",
      "      <h4>\n",
      "       Quantity\n",
      "      </h4>\n",
      "     </div>\n",
      "     <div>\n",
      "      <span>\n",
      "       2020\n",
      "      </span>\n",
      "      <p>\n",
      "       100\n",
      "      </p>\n",
      "     </div>\n",
      "     <div>\n",
      "      <span>\n",
      "       2021\n",
      "      </span>\n",
      "      <p>\n",
      "       120\n",
      "      </p>\n",
      "     </div>\n",
      "     <div>\n",
      "      <span>\n",
      "       2022\n",
      "      </span>\n",
      "      <p>\n",
      "       125\n",
      "      </p>\n",
      "     </div>\n",
      "    </div>\n",
      "   </div>\n",
      "  </section>\n",
      "  <section class=\"slovak-section\" id=\"slovak\">\n",
      "   <div class=\"region-container\">\n",
      "    <h2>\n",
      "     New region\n",
      "    </h2>\n",
      "    <div class=\"region-grid\">\n",
      "     <div>\n",
      "      <h4>\n",
      "       Year\n",
      "      </h4>\n",
      "      <h4>\n",
      "       Quantity\n",
      "      </h4>\n",
      "     </div>\n",
      "     <div>\n",
      "      <span>\n",
      "       2020\n",
      "      </span>\n",
      "      <p>\n",
      "       50\n",
      "      </p>\n",
      "     </div>\n",
      "     <div>\n",
      "      <span>\n",
      "       2021\n",
      "      </span>\n",
      "      <p>\n",
      "       30\n",
      "      </p>\n",
      "     </div>\n",
      "     <div>\n",
      "      <span>\n",
      "       2022\n",
      "      </span>\n",
      "      <p>\n",
      "       90\n",
      "      </p>\n",
      "     </div>\n",
      "    </div>\n",
      "   </div>\n",
      "  </section>\n",
      "  <div id=\"students-list\">\n",
      "  </div>\n",
      "  <!-- <script src=\"script.js\"></script> -->\n",
      " </body>\n",
      "</html>\n",
      "\n",
      "[<h2>New region</h2>, <h2>New region</h2>, <h2>New region</h2>]\n"
     ]
    }
   ],
   "source": [
    "with open ('index-changed.html', 'r') as file:\n",
    "    doc = bfs(file, 'html.parser')\n",
    "    print(doc.prettify())\n",
    "    print(doc.find_all('h2'))"
   ]
  },
  {
   "cell_type": "code",
   "execution_count": 27,
   "id": "15a7ca95-6e11-41d8-99fb-55d873a079fb",
   "metadata": {
    "tags": []
   },
   "outputs": [
    {
     "name": "stdout",
     "output_type": "stream",
     "text": [
      "      obszar                                        lokacja      cena  \\\n",
      "0    slaskie               Ikara 10, Bielsko-Biała, śląskie  489000.0   \n",
      "1    slaskie                                Będzin, śląskie  200000.0   \n",
      "2    slaskie  Kazimierza Pułaskiego, Bielsko-Biała, śląskie  640000.0   \n",
      "3    slaskie               Składkowskiego, Czeladź, śląskie  214000.0   \n",
      "4    slaskie    gen. Zygmunta Wróblewskiego, Bytom, śląskie   20700.0   \n",
      "..       ...                                            ...       ...   \n",
      "354  slaskie        ul. Wielka Skotnica, Mysłowice, śląskie  192000.0   \n",
      "355  slaskie                 ul. Opawska, Racibórz, śląskie  115000.0   \n",
      "356  slaskie                       Piekary Śląskie, śląskie  169000.0   \n",
      "357  slaskie                       Częstochowa, Tysiąclecie  330000.0   \n",
      "359  slaskie     Katowice, Osiedle Tysiąclecia, ul. Piastów  356000.0   \n",
      "\n",
      "     przestrzeń_m2  cena_m2  ilość pokoi  \n",
      "0            61.00   8016.0            3  \n",
      "1            45.00   4444.0            3  \n",
      "2            72.00   8889.0            3  \n",
      "3            48.30   4431.0            2  \n",
      "4            47.21    438.0            2  \n",
      "..             ...      ...          ...  \n",
      "354          47.01   4084.0            2  \n",
      "355          36.85   3121.0            1  \n",
      "356          39.00   4333.0            1  \n",
      "357          52.00   6346.0            2  \n",
      "359          54.00   6593.0            2  \n",
      "\n",
      "[311 rows x 6 columns]\n",
      "Średnia cena za mieszkanie: 379294.5735369775\n",
      "Średnia cena za metr kwadrat: 6558.800643086816\n",
      "Średni metraż mieszkania: 56.722379421221866\n",
      "----------------------------------------------------------------\n",
      "Mediana cena za mieszkanie: 315000.0\n",
      "Mediana cena za metr kwadrat: 6128.0\n",
      "Mediana metraż mieszkania: 52.97\n"
     ]
    }
   ],
   "source": [
    "import pandas as pd\n",
    "\n",
    "housing_market = pd.read_csv('mieszkanie_slaskie.csv')\n",
    "housing_market['cena'] = housing_market['cena'].astype('float64')\n",
    "housing_market = housing_market.dropna()\n",
    "print(housing_market)\n",
    "\n",
    "print(f\"Średnia cena za mieszkanie: {housing_market['cena'].mean()}\")\n",
    "print(f\"Średnia cena za metr kwadrat: {housing_market['cena_m2'].mean()}\")\n",
    "print(f\"Średni metraż mieszkania: {housing_market['przestrzeń_m2'].mean()}\")\n",
    "print(\"----------------------------------------------------------------\")\n",
    "print(f\"Mediana cena za mieszkanie: {housing_market['cena'].median()}\")\n",
    "print(f\"Mediana cena za metr kwadrat: {housing_market['cena_m2'].median()}\")\n",
    "print(f\"Mediana metraż mieszkania: {housing_market['przestrzeń_m2'].median()}\")\n",
    "\n",
    "# housing_market[\"Price\"].describe()"
   ]
  },
  {
   "cell_type": "code",
   "execution_count": null,
   "id": "3de6c812-de60-472b-b116-f181be2b763a",
   "metadata": {},
   "outputs": [],
   "source": []
  }
 ],
 "metadata": {
  "kernelspec": {
   "display_name": "Python 3 (ipykernel)",
   "language": "python",
   "name": "python3"
  },
  "language_info": {
   "codemirror_mode": {
    "name": "ipython",
    "version": 3
   },
   "file_extension": ".py",
   "mimetype": "text/x-python",
   "name": "python",
   "nbconvert_exporter": "python",
   "pygments_lexer": "ipython3",
   "version": "3.11.2"
  }
 },
 "nbformat": 4,
 "nbformat_minor": 5
}
